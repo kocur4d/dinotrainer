{
 "cells": [
  {
   "cell_type": "code",
   "execution_count": 1,
   "metadata": {},
   "outputs": [
    {
     "name": "stderr",
     "output_type": "stream",
     "text": [
      "Using TensorFlow backend.\n"
     ]
    }
   ],
   "source": [
    "from keras.models import Sequential\n",
    "from keras.layers import Dense\n",
    "\n",
    "import numpy as np"
   ]
  },
  {
   "cell_type": "code",
   "execution_count": 2,
   "metadata": {},
   "outputs": [],
   "source": [
    "class Dino:\n",
    "    \n",
    "    REACT = ['none', 'up', 'down']\n",
    "    \n",
    "    def __init__(self):\n",
    "        self.type = 'dino'\n",
    "        \n",
    "        # ---Setup brain as a NN\n",
    "        model = Sequential()\n",
    "        model.add(Dense(32, input_dim=810, activation='relu'))\n",
    "        model.add(Dense(8, activation='relu'))\n",
    "        model.add(Dense(3, activation='sigmoid'))\n",
    "        self.brain = model\n",
    "        \n",
    "    # ---Load weights from file    \n",
    "    def load_brain(self, filepath):\n",
    "        brain.load_weights(filepath)\n",
    "        \n",
    "    # ---Save weights to a file\n",
    "    def save_brain(self, filepath):\n",
    "        brain.save_weights(filepath)\n",
    "        \n",
    "    # ---Make decision based on data\n",
    "    # @return 'none' | 'up' | 'down'\n",
    "    def react(self, X):\n",
    "        result = self.brain.predict(X)\n",
    "        return self.REACT[result.argmax()]\n",
    "        "
   ]
  },
  {
   "cell_type": "code",
   "execution_count": null,
   "metadata": {},
   "outputs": [],
   "source": []
  }
 ],
 "metadata": {
  "kernelspec": {
   "display_name": "Python 3",
   "language": "python",
   "name": "python3"
  },
  "language_info": {
   "codemirror_mode": {
    "name": "ipython",
    "version": 3
   },
   "file_extension": ".py",
   "mimetype": "text/x-python",
   "name": "python",
   "nbconvert_exporter": "python",
   "pygments_lexer": "ipython3",
   "version": "3.6.8"
  }
 },
 "nbformat": 4,
 "nbformat_minor": 2
}
