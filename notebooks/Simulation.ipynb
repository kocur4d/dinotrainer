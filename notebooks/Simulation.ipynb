{
 "cells": [
  {
   "cell_type": "code",
   "execution_count": null,
   "metadata": {},
   "outputs": [],
   "source": [
    "%run Dino.ipynb"
   ]
  },
  {
   "cell_type": "code",
   "execution_count": 3,
   "metadata": {},
   "outputs": [],
   "source": [
    "import numpy as np\n",
    "import random"
   ]
  },
  {
   "cell_type": "code",
   "execution_count": 5,
   "metadata": {},
   "outputs": [],
   "source": [
    "class Simulation:\n",
    "    MUTATION_RATE = 0.80\n",
    "    MUTATION_STD = 0.1\n",
    "    \n",
    "    def __init__(self):\n",
    "        self.population_size = 2\n",
    "        self.dinos = np.array([])\n",
    "        \n",
    "    def setup(self):\n",
    "        for n in range(self.population_size):\n",
    "            self.dinos.append(Dino())\n",
    "            \n",
    "    def crossover(self, dino):\n",
    "        new_dino = Dino()\n",
    "        new_dino.brain.set_weights(dino.brain.get_weights())\n",
    "        return new_dino\n",
    "            \n",
    "    def mutate(self, dino):\n",
    "        new_dino = Dino()\n",
    "        model = dino.brain\n",
    "        # first itterate through the layers\n",
    "        for j, layer in enumerate(model.layers):\n",
    "            new_weights_for_layer = []\n",
    "            # each layer has 2 matrizes, one for connection weights and one for biases\n",
    "            # then itterate though each matrix\n",
    "\n",
    "            for weight_array in layer.get_weights():\n",
    "                # save their shape\n",
    "                save_shape = weight_array.shape\n",
    "                # reshape them to one dimension\n",
    "                one_dim_weight = weight_array.reshape(-1)\n",
    "\n",
    "                for i, weight in enumerate(one_dim_weight):\n",
    "                    # mutate them like i want\n",
    "                    if random.uniform(0, 1) <= self.MUTATION_RATE:\n",
    "                        # maybe dont use a complete new weigh, but rather just change it a bit\n",
    "                        one_dim_weight[i]=np.random.normal(0,self.MUTATION_STD)\n",
    "\n",
    "                # reshape them back to the original form\n",
    "                new_weight_array = one_dim_weight.reshape(save_shape)\n",
    "                # save them to the weight list for the layer\n",
    "                new_weights_for_layer.append(new_weight_array)\n",
    "\n",
    "            # set the new weight list for each layer\n",
    "            new_dino.brain.layers[j].set_weights(new_weights_for_layer)\n",
    "        return new_dino"
   ]
  },
  {
   "cell_type": "code",
   "execution_count": null,
   "metadata": {},
   "outputs": [],
   "source": []
  }
 ],
 "metadata": {
  "kernelspec": {
   "display_name": "Python 3",
   "language": "python",
   "name": "python3"
  },
  "language_info": {
   "codemirror_mode": {
    "name": "ipython",
    "version": 3
   },
   "file_extension": ".py",
   "mimetype": "text/x-python",
   "name": "python",
   "nbconvert_exporter": "python",
   "pygments_lexer": "ipython3",
   "version": "3.6.8"
  }
 },
 "nbformat": 4,
 "nbformat_minor": 2
}
